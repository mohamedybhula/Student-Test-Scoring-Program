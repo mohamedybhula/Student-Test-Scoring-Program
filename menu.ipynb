{
 "cells": [
  {
   "cell_type": "code",
   "execution_count": 1,
   "id": "3653a17a",
   "metadata": {},
   "outputs": [],
   "source": [
    "import ipywidgets as widgets\n",
    "from ipywidgets import Layout\n",
    "from IPython.display import display, clear_output\n",
    "import subprocess\n",
    "from testResults import get_scores, plot_scores\n",
    "from studentPerformance import get_performance\n",
    "from underperformingStudent import is_underperforming, display_underperforming\n",
    "from hardworkingStudents import find_hardworking"
   ]
  },
  {
   "cell_type": "code",
   "execution_count": 2,
   "id": "ef32db2f",
   "metadata": {},
   "outputs": [
    {
     "data": {
      "application/vnd.jupyter.widget-view+json": {
       "model_id": "45cf9bb735284e5da0c83d14b6ba8376",
       "version_major": 2,
       "version_minor": 0
      },
      "text/plain": [
       "VBox(children=(Button(description='Clean Files', style=ButtonStyle(button_color='lightyellow')), Output(), But…"
      ]
     },
     "metadata": {},
     "output_type": "display_data"
    },
    {
     "data": {
      "application/vnd.jupyter.widget-view+json": {
       "model_id": "fc043107f3df4dddbae949c60f45adac",
       "version_major": 2,
       "version_minor": 0
      },
      "text/plain": [
       "Text(value='', description='Enter Student Number', style=DescriptionStyle(description_width='initial'))"
      ]
     },
     "metadata": {},
     "output_type": "display_data"
    },
    {
     "data": {
      "application/vnd.jupyter.widget-view+json": {
       "model_id": "ce58225fb7e3488a8eba6280ede25de5",
       "version_major": 2,
       "version_minor": 0
      },
      "text/plain": [
       "Button(description='Get Results', style=ButtonStyle(button_color='rgba(144, 238, 144, 0.2)'))"
      ]
     },
     "metadata": {},
     "output_type": "display_data"
    },
    {
     "data": {
      "application/vnd.jupyter.widget-view+json": {
       "model_id": "85914e48da3a4f909c8d19adbae3a87a",
       "version_major": 2,
       "version_minor": 0
      },
      "text/plain": [
       "Output()"
      ]
     },
     "metadata": {},
     "output_type": "display_data"
    },
    {
     "data": {
      "application/vnd.jupyter.widget-view+json": {
       "model_id": "8f51028b6a234bff8ea2e0be579a1cb8",
       "version_major": 2,
       "version_minor": 0
      },
      "text/plain": [
       "Text(value='', description='Enter a Student Number and Select a Test', style=DescriptionStyle(description_widt…"
      ]
     },
     "metadata": {},
     "output_type": "display_data"
    },
    {
     "data": {
      "application/vnd.jupyter.widget-view+json": {
       "model_id": "814cee8dbb4d43eab79491d8927c54ec",
       "version_major": 2,
       "version_minor": 0
      },
      "text/plain": [
       "Output()"
      ]
     },
     "metadata": {},
     "output_type": "display_data"
    },
    {
     "data": {
      "application/vnd.jupyter.widget-view+json": {
       "model_id": "9ad46196dadb403bac3c325b1590647c",
       "version_major": 2,
       "version_minor": 0
      },
      "text/plain": [
       "VBox(children=(Button(description='Formulative Mock Test', layout=Layout(width='250px'), style=ButtonStyle()),…"
      ]
     },
     "metadata": {},
     "output_type": "display_data"
    }
   ],
   "source": [
    "button_layout = Layout(width='250px')\n",
    "files_cleaned = False\n",
    "output_area_clean = widgets.Output()\n",
    "output_area_results = widgets.Output()\n",
    "\n",
    "\n",
    "def clean_files(btn):\n",
    "    \"\"\"\n",
    "    Uses CWPreprocessing.py to clean the files and store them in a database.\n",
    "    \n",
    "    Args:\n",
    "        None\n",
    "        \n",
    "    Returns:\n",
    "        Notifies the user whether the files have been cleaned are have been cleaned already.\n",
    "    \"\"\"\n",
    "    global files_cleaned\n",
    "    \n",
    "    if not files_cleaned:\n",
    "        try:\n",
    "            subprocess.run(['python', 'CWPreprocessing.py'])\n",
    "            with output_area_clean:\n",
    "                print(\"Files have been cleaned.\")\n",
    "            files_cleaned = True\n",
    "        except FileNotFoundError:\n",
    "            with output_area_clean:\n",
    "                print(\"CWPreprocessing.py file not found.\") \n",
    "    else:\n",
    "        with output_area_clean:\n",
    "            print(\"Files have already been cleaned.\")\n",
    "\n",
    "clean_button = widgets.Button(description=\"Clean Files\", style={'button_color':'lightyellow'})\n",
    "clean_button.on_click(clean_files)\n",
    "\n",
    "\n",
    "\n",
    "\n",
    "\n",
    "\n",
    "def get_test_results(btn):\n",
    "    \"\"\"\n",
    "    Uses get_scores() and plot_scores() to show a student's scores.\n",
    "    \n",
    "    Args:\n",
    "        None\n",
    "        \n",
    "    Returns:\n",
    "        A text box where the user can enter the student id number for the results they want to see.\n",
    "    \"\"\"\n",
    "    \n",
    "    def on_button_click(_):\n",
    "        with output_area_results:\n",
    "            try:\n",
    "                student_number = int(student_number_textbox_results.value)\n",
    "                scores = get_scores(student_number)\n",
    "                plot_scores(scores, student_number)  # user input used as parameters for functions\n",
    "            except ValueError:\n",
    "                print(\"Not a valid number. Please use an integer.\")\n",
    "\n",
    "    def clear_output_on_change(change):\n",
    "        if change['type'] == 'change' and change['name'] == 'value':\n",
    "            output_area_results.clear_output()  # removes previous output when user input changes\n",
    "\n",
    "    student_number_textbox_results = \\\n",
    "    widgets.Text(description=\"Enter Student Number\", style={'description_width': 'initial'})\n",
    "    execute_button = \\\n",
    "    widgets.Button(description=\"Get Results\", style={'button_color':'rgba(144, 238, 144, 0.2)'}) \n",
    "    # collects user input and shows new button upon clicking initial 'Get Test Results' button\n",
    "    \n",
    "    execute_button.on_click(on_button_click)\n",
    "    student_number_textbox_results.observe(clear_output_on_change)\n",
    "\n",
    "    display(student_number_textbox_results)\n",
    "    display(execute_button)\n",
    "    display(output_area_results)\n",
    "\n",
    "textbox = widgets.Text(description=\"Enter Student Number\", style={'description_width': 'initial'})\n",
    "get_results_btn = widgets.Button(description=\"Get Test Results\", style={'button_color':'lightblue'})\n",
    "get_results_btn.on_click(get_test_results)\n",
    "\n",
    "\n",
    "\n",
    "    \n",
    "\n",
    "    \n",
    "    \n",
    "output_area_performance = widgets.Output()\n",
    "student_number_textbox_performance = widgets.Text(\n",
    "    description=\"Enter a Student Number and Select a Test\",\n",
    "    style={'description_width': 'initial'}\n",
    ")\n",
    "\n",
    "def on_test_button_click(test_name):\n",
    "    \"\"\"\n",
    "    Provides a list of tests for the user to select.\n",
    "    \n",
    "    Args:\n",
    "        test_name (str): The name of the test.\n",
    "    \n",
    "    Returns:\n",
    "        The results of the student for the given test.\n",
    "    \"\"\"\n",
    "    with output_area_performance:\n",
    "        try:\n",
    "            student_number = int(student_number_textbox_performance.value)\n",
    "            df = get_performance(student_number, test_name)\n",
    "            display(df)\n",
    "        except ValueError:\n",
    "            print(\"Not a valid number. Please use an integer.\")\n",
    "\n",
    "def clear_output_on_change(change):\n",
    "    # clears the previous output when user input changes\n",
    "    if change['type'] == 'change' and change['name'] == 'value':\n",
    "        output_area_performance.clear_output()\n",
    "\n",
    "def get_student_performance(btn):\n",
    "    \"\"\"\n",
    "    Opens up a text box for the user to type in a student id,\n",
    "    and the different test options for the user to choose.\n",
    "    \n",
    "    Args:\n",
    "        None\n",
    "        \n",
    "    Returns:\n",
    "        A text box widget and test options widget.\n",
    "    \"\"\"\n",
    "    test_buttons = [widgets.Button(description=test_name, layout=button_layout) for test_name in \n",
    "                    [\"Formulative Mock Test\", \"Formulative Test 1\", \n",
    "                     \"Formulative Test 2\", \"Formulative Test 3\", \n",
    "                     \"Formulative Test 4\", \"Sum Test\"]]\n",
    "    \n",
    "    for test_button in test_buttons:\n",
    "        test_button.on_click\\\n",
    "        (lambda btn, test_name=test_button.description: on_test_button_click(test_name))\n",
    "    # uses the lambda function to assign the name of the test button \n",
    "    # as the input parameter of on_test_button_click()\n",
    "        \n",
    "    student_number_textbox_performance.observe(clear_output_on_change)\n",
    "\n",
    "    display(student_number_textbox_performance) \n",
    "    display(output_area_performance)\n",
    "    display(widgets.VBox(test_buttons)) \n",
    "\n",
    "get_performance_btn = widgets.Button(\n",
    "    description=\"Get Student's Performance\",\n",
    "    layout=button_layout,\n",
    "    style={'button_color':'lavender'}\n",
    ")\n",
    "get_performance_btn.on_click(get_student_performance)\n",
    "\n",
    "\n",
    "\n",
    "\n",
    "\n",
    "output_area_underperforming = widgets.Output()\n",
    "\n",
    "def find_underperforming_students(btn):\n",
    "    \"\"\"\n",
    "    Uses is_underperforming() and display_underperforming() \n",
    "    to show underperforming students when clicked.\n",
    "    \n",
    "    Args:\n",
    "        None\n",
    "    \n",
    "    Returns:\n",
    "        A DataFrame of underperforming students. \n",
    "    \n",
    "    \"\"\"\n",
    "    with output_area_underperforming:\n",
    "        output_area_underperforming.clear_output()\n",
    "        underperforming_students = is_underperforming()\n",
    "        underperforming_df = display_underperforming(underperforming_students)\n",
    "        display(underperforming_df)\n",
    "\n",
    "find_underperforming_btn = widgets.Button(\n",
    "    description=\"Find Underperforming Students\",\n",
    "    layout=button_layout,\n",
    "    style={'button_color':'lightgray'}\n",
    ")\n",
    "find_underperforming_btn.on_click(find_underperforming_students)\n",
    "\n",
    "\n",
    "output_area_hardworking = widgets.Output()\n",
    "\n",
    "def find_hardworking_students(btn):\n",
    "    \"\"\"\n",
    "    Uses find_hardworking() to display the students who have worked hard when clicked.\n",
    "    \n",
    "    Args:\n",
    "        None\n",
    "        \n",
    "    Returns:\n",
    "        A DataFrame of hardworking students. \n",
    "    \"\"\"\n",
    "    with output_area_hardworking:\n",
    "        output_area_hardworking.clear_output()\n",
    "        hardworking_students_df = find_hardworking()\n",
    "        display(hardworking_students_df)\n",
    "\n",
    "find_hardworking_btn = widgets.Button(\n",
    "    description=\"Find Hardworking Students\",\n",
    "    layout=button_layout,\n",
    "    style={'button_color':'wheat'}\n",
    ")\n",
    "find_hardworking_btn.on_click(find_hardworking_students)\n",
    "\n",
    "\n",
    "def clear_all_output(btn):\n",
    "    \"\"\"\n",
    "    Clears the output of the buttons previously clicked.\n",
    "    \n",
    "    Args:\n",
    "        None\n",
    "        \n",
    "    Returns:\n",
    "        An empty output area.\n",
    "    \"\"\"\n",
    "    output_area_clean.clear_output()\n",
    "    output_area_results.clear_output()\n",
    "    output_area_performance.clear_output()\n",
    "    output_area_underperforming.clear_output()\n",
    "    output_area_hardworking.clear_output()\n",
    "\n",
    "clear_all_btn = widgets.Button(\n",
    "    description=\"Clear All Output\",\n",
    "    style={'button_color':'mistyrose'}\n",
    ")\n",
    "clear_all_btn.on_click(clear_all_output)\n",
    "\n",
    "display(widgets.VBox([\n",
    "    clean_button, output_area_clean, get_results_btn, get_performance_btn,\n",
    "    find_underperforming_btn, output_area_underperforming,\n",
    "    find_hardworking_btn, output_area_hardworking, clear_all_btn\n",
    "]))\n"
   ]
  },
  {
   "cell_type": "code",
   "execution_count": null,
   "id": "6ed670ea",
   "metadata": {},
   "outputs": [],
   "source": []
  }
 ],
 "metadata": {
  "kernelspec": {
   "display_name": "Python 3 (ipykernel)",
   "language": "python",
   "name": "python3"
  },
  "language_info": {
   "codemirror_mode": {
    "name": "ipython",
    "version": 3
   },
   "file_extension": ".py",
   "mimetype": "text/x-python",
   "name": "python",
   "nbconvert_exporter": "python",
   "pygments_lexer": "ipython3",
   "version": "3.9.13"
  }
 },
 "nbformat": 4,
 "nbformat_minor": 5
}
